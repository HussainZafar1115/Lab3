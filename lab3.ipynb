{
  "nbformat": 4,
  "nbformat_minor": 0,
  "metadata": {
    "colab": {
      "provenance": []
    },
    "kernelspec": {
      "name": "python3",
      "display_name": "Python 3"
    },
    "language_info": {
      "name": "python"
    }
  },
  "cells": [
    {
      "cell_type": "code",
      "execution_count": 10,
      "metadata": {
        "colab": {
          "base_uri": "https://localhost:8080/"
        },
        "id": "EwfZfoaZIaNt",
        "outputId": "7fc6eb7f-6f1d-404d-d7ae-8355ee20e5b9"
      },
      "outputs": [
        {
          "output_type": "stream",
          "name": "stdout",
          "text": [
            "\n",
            "Shortest way:\n",
            "(1, 1)\n",
            "(2, 1)\n",
            "(3, 1)\n",
            "(4, 1)\n",
            "(4, 2)\n",
            "(4, 3)\n",
            "(4, 4)\n"
          ]
        }
      ],
      "source": [
        "from collections import deque\n",
        "\n",
        "def find_shortest_path(matrix):\n",
        "\n",
        "    directions = [(-1, 0), (1, 0), (0, -1), (0, 1)]\n",
        "    start = (1, 1)\n",
        "    end = (4, 4)\n",
        "    queue = deque([(start, [start])])\n",
        "    visited = set()\n",
        "\n",
        "    while queue:\n",
        "        (x, y), path = queue.popleft()\n",
        "        if (x, y) == end:\n",
        "            return path\n",
        "        visited.add((x, y))\n",
        "\n",
        "        for rowmov, colmov in directions:\n",
        "            newr, newc = x + rowmov, y + colmov\n",
        "\n",
        "\n",
        "            if 0 <= newr< len(matrix) and 0 <= newc < len(matrix[0]):\n",
        "                if matrix[newr][newc] == 0 and (newr,newc) not in visited:\n",
        "                    queue.append(((newr, newc), path + [(newr, newc)]))\n",
        "\n",
        "    return None\n",
        "def main():\n",
        "\n",
        "    matrix = [[0] * 5 for _ in range(5)]\n",
        "    matrix[2][2] = matrix[3][3]  = 1\n",
        "    path = find_shortest_path(matrix)\n",
        "\n",
        "    if path:\n",
        "        print(\"\\nShortest way:\")\n",
        "        for steps in path:\n",
        "            print(steps)\n",
        "    else:\n",
        "        print(\"\\no path \")\n",
        "\n",
        "if __name__ == \"__main__\":\n",
        "    main()\n"
      ]
    },
    {
      "cell_type": "code",
      "source": [
        "import time\n",
        "\n",
        "def state_to_tuple(state):\n",
        "    return tuple(map(int, state))\n",
        "\n",
        "def tuple_to_state(matrix):\n",
        "    return ''.join(map(str, matrix))\n",
        "\n",
        "def get_moves(matrix):\n",
        "    zeroindex = matrix.index(0)\n",
        "    row, col = zeroindex // 3, zeroindex % 3\n",
        "\n",
        "    moves = []\n",
        "    if row > 0: moves.append(-3)  # up\n",
        "    if row < 2: moves.append(3)   # down\n",
        "    if col > 0: moves.append(-1)  #  left\n",
        "    if col < 2: moves.append(1)   # right\n",
        "\n",
        "    return moves\n",
        "\n",
        "def dfs(start_state, goal_state):\n",
        "    stack = [(start_state, [])]\n",
        "    visited = set()\n",
        "\n",
        "    while stack:\n",
        "        state, path = stack.pop()\n",
        "\n",
        "        if state == goal_state:\n",
        "            return path\n",
        "        visited.add(state)\n",
        "\n",
        "        for move in get_moves(state):\n",
        "            newstate = list(state)\n",
        "            zeroindex = state.index(0)\n",
        "            swapindex = zeroindex + move\n",
        "\n",
        "            newstate[zeroindex], newstate[swapindex] = newstate[swapindex], newstate[zeroindex]\n",
        "\n",
        "            new_tuple = tuple(newstate)\n",
        "            if new_tuple not in visited:\n",
        "                stack.append((new_tuple, path + [new_tuple]))\n",
        "\n",
        "    return None\n",
        "\n",
        "def main():\n",
        "    start_state = input(\"Enter start state: \")\n",
        "    goal_state = input(\"Enter goal state: \")\n",
        "    start_tuple = state_to_tuple(start_state)\n",
        "    goal_tuple = state_to_tuple(goal_state)\n",
        "\n",
        "    print(\"-----\")\n",
        "    print(\"DFS Algorithm\")\n",
        "    print(\"---\")\n",
        "    start_time = time.time()\n",
        "    sol_path = dfs(start_tuple, goal_tuple)\n",
        "    end_time = time.time()\n",
        "\n",
        "    if sol_path:\n",
        "        print(\"Time:\", end_time - start_time, \"secs\")\n",
        "        print(\"Path Cost:\", len(sol_path))\n",
        "        print(\"No of Nodes Visited:\", len(sol_path) + 1)\n",
        "\n",
        "        for state in sol_path:\n",
        "            for i in range(0, 9, 3):\n",
        "                print(' '.join(map(str, state[i:i+3])))\n",
        "            print(\"--\")\n",
        "    else:\n",
        "        print(\"No solution found.\")\n",
        "\n",
        "if __name__ == \"__main__\":\n",
        "    main()\n"
      ],
      "metadata": {
        "colab": {
          "base_uri": "https://localhost:8080/"
        },
        "id": "IVOmaBptK6qB",
        "outputId": "893036f5-5d68-4afb-f781-51465b57dd78"
      },
      "execution_count": 7,
      "outputs": [
        {
          "output_type": "stream",
          "name": "stdout",
          "text": [
            "Enter start state: 120345678\n",
            "Enter goal state: 012345678\n",
            "-----\n",
            "DFS Algorithm\n",
            "---\n",
            "Time: 6.556510925292969e-05 secs\n",
            "Path Cost: 2\n",
            "No of Nodes Visited: 3\n",
            "1 0 2\n",
            "3 4 5\n",
            "6 7 8\n",
            "--\n",
            "0 1 2\n",
            "3 4 5\n",
            "6 7 8\n",
            "--\n"
          ]
        }
      ]
    },
    {
      "cell_type": "code",
      "source": [
        "import heapq\n",
        "\n",
        "class Graph:\n",
        "    def __init__(self, adjacency_list):\n",
        "        \"\"\"Initializes the graph with an adjacency list.\"\"\"\n",
        "        self.adjacency_list = adjacency_list\n",
        "\n",
        "    def get_neighbors(self, v):\n",
        "        \"\"\"Returns the neighbors of a given node.\"\"\"\n",
        "        return self.adjacency_list.get(v, [])\n",
        "\n",
        "    def h(self, n):\n",
        "\n",
        "        H = {\n",
        "            \"The\": 4,\n",
        "            \"cat\": 3,\n",
        "            \"dog\": 3,\n",
        "            \"runs\": 2,\n",
        "            \"fast\": 1\n",
        "        }\n",
        "        return H.get(n, float('inf'))\n",
        "\n",
        "    def a_star_algorithm(self, start_node, stop_node):\n",
        "\n",
        "        open_list = []\n",
        "        heapq.heappush(open_list, (0, start_node))\n",
        "        closed_list = set()\n",
        "\n",
        "        g = {start_node: 0}\n",
        "        parents = {start_node: None}\n",
        "\n",
        "        while open_list:\n",
        "            _, n = heapq.heappop(open_list)\n",
        "\n",
        "            if n == stop_node:\n",
        "\n",
        "                reconst_path = []\n",
        "                while n:\n",
        "                    reconst_path.append(n)\n",
        "                    n = parents[n]\n",
        "                reconst_path.reverse()\n",
        "                print(\"Sentence:\", \" \".join(reconst_path))\n",
        "                print(\"cost:\", g[stop_node])\n",
        "                return reconst_path\n",
        "\n",
        "            closed_list.add(n)\n",
        "\n",
        "            for neighbor, cost in self.get_neighbors(n):\n",
        "                if neighbor in closed_list:\n",
        "                    continue\n",
        "\n",
        "                temp_g = g[n] + cost\n",
        "\n",
        "                if neighbor not in g or temp_g < g[neighbor]:\n",
        "                    g[neighbor] = temp_g\n",
        "                    f = temp_g + self.h(neighbor)\n",
        "                    heapq.heappush(open_list, (f, neighbor))\n",
        "                    parents[neighbor] = n\n",
        "\n",
        "        print(\"Path does not exist!\")\n",
        "        return None\n",
        "\n",
        "\n",
        "adjacency_list = {\n",
        "    \"The\": [(\"cat\", 2), (\"dog\", 3)],\n",
        "    \"cat\": [(\"runs\", 2)],\n",
        "    \"dog\": [(\"runs\", 4)],\n",
        "    \"runs\": [(\"fast\", 2)],\n",
        "    \"fast\": []\n",
        "}\n",
        "\n",
        "\n",
        "graph1 = Graph(adjacency_list)\n",
        "graph1.a_star_algorithm(\"The\", \"fast\")\n"
      ],
      "metadata": {
        "colab": {
          "base_uri": "https://localhost:8080/"
        },
        "id": "PTr2OKjPSprO",
        "outputId": "c763babd-e674-46e8-ffd4-5be8dd4e5a30"
      },
      "execution_count": 9,
      "outputs": [
        {
          "output_type": "stream",
          "name": "stdout",
          "text": [
            "Sentence: The cat runs fast\n",
            "Total cost: 6\n"
          ]
        },
        {
          "output_type": "execute_result",
          "data": {
            "text/plain": [
              "['The', 'cat', 'runs', 'fast']"
            ]
          },
          "metadata": {},
          "execution_count": 9
        }
      ]
    }
  ]
}